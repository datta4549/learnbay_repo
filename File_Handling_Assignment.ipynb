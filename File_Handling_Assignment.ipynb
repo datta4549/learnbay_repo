{
 "cells": [
  {
   "cell_type": "code",
   "execution_count": 1,
   "metadata": {
    "id": "Wmu-dIbTTDi1"
   },
   "outputs": [
    {
     "data": {
      "text/plain": [
       "'Lorem ipsum dolor sit amet, consectetur adipiscing elit, sed do eiusmod tempor incididunt ut labore et dolore magna aliqua. Ut enim ad minim veniam, quis nostrud exercitation ullamco laboris nisi ut aliquip ex ea commodo consequat. Duis aute irure dolor in reprehenderit in voluptate velit esse cillum dolore eu fugiat nulla pariatur. Excepteur sint occaecat cupidatat non proident, sunt in culpa qui officia deserunt mollit anim id est laborum.\\n\\n'"
      ]
     },
     "execution_count": 1,
     "metadata": {},
     "output_type": "execute_result"
    }
   ],
   "source": [
    "# Write a function in python to read the content from\n",
    "# a text file \"poem.txt\" line by line and display the same on screen.\n",
    "# Create a file \"poem.txt\" with some content\n",
    "#n = 'poem.txt'\n",
    "def read_file(n):\n",
    "    with open(n) as hf:\n",
    "        \n",
    "        return hf.read()\n",
    "\n",
    "#r = hf.read()\n",
    "#hf.close()\n",
    "read_file('poem.txt')"
   ]
  },
  {
   "cell_type": "code",
   "execution_count": 7,
   "metadata": {
    "id": "2oPxrwCUTDi4"
   },
   "outputs": [
    {
     "data": {
      "text/plain": [
       "3"
      ]
     },
     "execution_count": 7,
     "metadata": {},
     "output_type": "execute_result"
    }
   ],
   "source": [
    "# Write a function in python to count the number of lines\n",
    "# from a text file \"story.txt\" which is not starting with an alphabet \"T\".\n",
    "\n",
    "# Example: If the file \"story.txt\" contains the following lines: A boy is playing there.\n",
    "# There is a playground.\n",
    "# An aeroplane is in the sky.\n",
    "# The sky is pink.\n",
    "# Alphabets and numbers are allowed in the password.\n",
    "# The function should display the output as 3\n",
    "\n",
    "def read_file(n):\n",
    "    count = 0\n",
    "    with open(n) as hf:\n",
    "        for line in hf:\n",
    "            if line[0] not in'T':\n",
    "                count+=1\n",
    "    return count\n",
    "read_file('story.txt')    "
   ]
  },
  {
   "cell_type": "code",
   "execution_count": 56,
   "metadata": {
    "id": "OAWYFqVSTDi4"
   },
   "outputs": [
    {
     "data": {
      "text/plain": [
       "27"
      ]
     },
     "execution_count": 56,
     "metadata": {},
     "output_type": "execute_result"
    }
   ],
   "source": [
    "# Write a function in Python to count and display the total number of words in a text file.\n",
    "def count_words(n):\n",
    "    count = 0\n",
    "    with open(n,'rt') as fh:\n",
    "        x = fh.read()\n",
    "        y = x.split()\n",
    "        count += len(y)\n",
    "    return count\n",
    "count_words('story.txt')"
   ]
  },
  {
   "cell_type": "code",
   "execution_count": 58,
   "metadata": {},
   "outputs": [
    {
     "name": "stdout",
     "output_type": "stream",
     "text": [
      "['A', 'boy', 'is', 'playing', 'there.', 'There', 'is', 'a', 'playground.', 'An', 'aeroplane', 'is', 'in', 'the', 'sky.', 'The', 'sky', 'is', 'pink.', 'Alphabets', 'and', 'numbers', 'are', 'allowed', 'in', 'the', 'password.']\n"
     ]
    }
   ],
   "source": [
    "with open('story.txt','rt') as fh:\n",
    "    x = fh.read()\n",
    "print(x.split())"
   ]
  },
  {
   "cell_type": "code",
   "execution_count": 27,
   "metadata": {
    "id": "TQIjG9eBTDi5"
   },
   "outputs": [
    {
     "ename": "SyntaxError",
     "evalue": "invalid syntax (307208502.py, line 13)",
     "output_type": "error",
     "traceback": [
      "\u001b[1;36m  Cell \u001b[1;32mIn[27], line 13\u001b[1;36m\u001b[0m\n\u001b[1;33m    data = hf.read():\u001b[0m\n\u001b[1;37m                    ^\u001b[0m\n\u001b[1;31mSyntaxError\u001b[0m\u001b[1;31m:\u001b[0m invalid syntax\n"
     ]
    }
   ],
   "source": [
    "# Write a function in Python to read lines from a text file \"notes.txt\".\n",
    "# Your function should find and display the occurrence of the word \"the\".\n",
    "\n",
    "# For example: If the content of the file is:\n",
    "# \"India is the fastest-growing economy. India is looking for more investments around the globe. The whole world is looking at India as a great market. Most of the Indians can foresee the heights that India is capable of reaching.\"\n",
    "\n",
    "# The output should be 5.\n",
    "\n",
    "def read_file(n):\n",
    "    count = 0\n",
    "    with open(n,'r') as hf:\n",
    "        \n",
    "        data = hf.read():\n",
    "            \n",
    "            \n",
    "            \n",
    "        return data\n",
    "read_file('notes.txt')   "
   ]
  },
  {
   "cell_type": "code",
   "execution_count": 63,
   "metadata": {},
   "outputs": [
    {
     "name": "stdout",
     "output_type": "stream",
     "text": [
      "5\n"
     ]
    }
   ],
   "source": [
    "count = 0\n",
    "with open('notes.txt','rt') as fh:\n",
    "    for lines in fh:\n",
    "        for line in lines.lower().split():\n",
    "            if(line == 'the'):\n",
    "                count+=1\n",
    "print(count)"
   ]
  },
  {
   "cell_type": "code",
   "execution_count": 45,
   "metadata": {},
   "outputs": [
    {
     "name": "stdout",
     "output_type": "stream",
     "text": [
      "['India', 'is', 'the', 'fastest-growing', 'economy.', 'India', 'is', 'looking', 'for', 'more', 'investments', 'around', 'the', 'globe.', 'The', 'whole', 'world', 'is', 'looking', 'at', 'India', 'as', 'a', 'great', 'market.', 'Most', 'of', 'the', 'Indians', 'can', 'foresee', 'the', 'heights', 'that', 'India', 'is', 'capable', 'of', 'reaching.']\n"
     ]
    }
   ],
   "source": [
    "print(contents.split())"
   ]
  },
  {
   "cell_type": "code",
   "execution_count": 47,
   "metadata": {
    "id": "eFxi85JJTDi5"
   },
   "outputs": [
    {
     "name": "stdout",
     "output_type": "stream",
     "text": [
      "A boy is is a An is in the The sky is and are in the "
     ]
    }
   ],
   "source": [
    "# Write a function display_words() in python to read lines from a text file \"story.txt\",\n",
    "# and display those words, which are less than 4 characters.\n",
    "\n",
    "def display_words(n):\n",
    "    with open(n,'rt') as fh:\n",
    "        for words in fh.read().split():\n",
    "            if len(words) < 4:\n",
    "                 print(words,end = ' ')\n",
    "\n",
    "display_words('story.txt')"
   ]
  },
  {
   "cell_type": "code",
   "execution_count": 46,
   "metadata": {},
   "outputs": [
    {
     "name": "stdout",
     "output_type": "stream",
     "text": [
      "A boy is is a An is in the The sky is and are in the "
     ]
    }
   ],
   "source": [
    " with open('story.txt','rt') as fh:\n",
    "    contents = fh.read()\n",
    "    for l in contents.split():\n",
    "        if len(l)<4:\n",
    "            print(l,end=' ')\n"
   ]
  },
  {
   "cell_type": "code",
   "execution_count": 7,
   "metadata": {
    "id": "INPRMGxlTDi5"
   },
   "outputs": [
    {
     "data": {
      "text/plain": [
       "6"
      ]
     },
     "execution_count": 7,
     "metadata": {},
     "output_type": "execute_result"
    }
   ],
   "source": [
    "# Write a function in Python to count the words \"this\" and \"these\" present in a text file \"article.txt\".\n",
    "# [Note that the words \"this\" and \"these\" are complete words]\n",
    "\n",
    "def count_words(n):\n",
    "    count = 0\n",
    "    with open(n,'rt') as fh:\n",
    "        for line in fh.read().split():\n",
    "            if 'this' in line or 'these' in line:\n",
    "                count+=1\n",
    "    return count\n",
    "count_words('story.txt')    "
   ]
  },
  {
   "cell_type": "code",
   "execution_count": 62,
   "metadata": {
    "id": "O7szVEYsTDi6"
   },
   "outputs": [
    {
     "data": {
      "text/plain": [
       "9"
      ]
     },
     "execution_count": 62,
     "metadata": {},
     "output_type": "execute_result"
    }
   ],
   "source": [
    "# Write a function in Python to count words in a text file those are ending with alphabet \"e\"\n",
    "\n",
    "def count_words(file,end_alpha):\n",
    "    count = 0\n",
    "    with open(file,'rt') as fh:\n",
    "        contents = fh.read()\n",
    "        for word in contents.split():\n",
    "            if word[-1] == end_alpha:\n",
    "                #print(word)\n",
    "                count+=1\n",
    "    return count\n",
    "\n",
    "count_words('notes.txt','e')"
   ]
  },
  {
   "cell_type": "code",
   "execution_count": 76,
   "metadata": {
    "id": "WrSBr7oHTDi6"
   },
   "outputs": [],
   "source": [
    "# Write a function in Python to count uppercase character in a text file.\n",
    "\n",
    "def upper_count(n):\n",
    "    count = 0\n",
    "    with open(n,'rt') as fh:\n",
    "        for word in fh.read():\n",
    "            for char in word.split():\n",
    "                if char.isupper():\n",
    "                    count+=1\n",
    "    return count"
   ]
  },
  {
   "cell_type": "code",
   "execution_count": 77,
   "metadata": {},
   "outputs": [
    {
     "data": {
      "text/plain": [
       "7"
      ]
     },
     "execution_count": 77,
     "metadata": {},
     "output_type": "execute_result"
    }
   ],
   "source": [
    "upper_count('notes.txt')"
   ]
  },
  {
   "cell_type": "code",
   "execution_count": 75,
   "metadata": {},
   "outputs": [
    {
     "name": "stdout",
     "output_type": "stream",
     "text": [
      "I\n",
      "I\n",
      "T\n",
      "I\n",
      "M\n",
      "I\n",
      "I\n"
     ]
    }
   ],
   "source": [
    "with open('notes.txt','rt') as fh:\n",
    "        for word in fh.read():\n",
    "            for char in word.split():\n",
    "                if char.isupper():\n",
    "                    print(char)"
   ]
  },
  {
   "cell_type": "code",
   "execution_count": 22,
   "metadata": {
    "id": "xEoBAbXpTDi6"
   },
   "outputs": [
    {
     "name": "stdout",
     "output_type": "stream",
     "text": [
      "this#is#a#text#file\n"
     ]
    }
   ],
   "source": [
    "# A text file named \"matter.txt\" contains some text, which needs to be displayed such that\n",
    "# every next character is separated by a symbol \"#\".\n",
    "# Write a function definition for hash_display() in Python that would display\n",
    "# the entire content of the file matter.txt in the desired format.\n",
    "\n",
    "# Example :\n",
    "# If the file matter.txt has the following content stored in it :\n",
    "# THE WORLD IS ROUND\n",
    "\n",
    "# The function hash_display() should display the following content :\n",
    "# T#H#E# #W#O#R#L#D# #I#S# #R#O#U#N#D#\n",
    "\n",
    "def hash_display(n):\n",
    "    with open(n,'rt') as fh:\n",
    "        contents =  fh.read().split()\n",
    "        result = '#'.join(contents)\n",
    "        print(result)\n",
    "hash_display('matter.txt')"
   ]
  },
  {
   "cell_type": "code",
   "execution_count": null,
   "metadata": {
    "id": "wJ-gLdkDTDi7"
   },
   "outputs": [],
   "source": [
    "# Aditi has used a text editing software to type some text. After saving the article as WORDS.TXT,\n",
    "# she realised that she has wrongly typed alphabet J in place of alphabet I everywhere in the article.\n",
    "# Write a function definition for JTOI() in Python that would display the corrected version of entire content\n",
    "# of the file WORDS.TXT with all the alphabets \"J\" to be displayed as an alphabet \"I\" on screen.\n",
    "\n",
    "# Note: Assuming that WORD.TXT does not contain any J alphabet otherwise.\n",
    "\n",
    "# Example:\n",
    "# If Aditi has stored the following content in the file WORDS.TXT:\n",
    "# WELL, THJS JS A WORD BY JTSELF. YOU COULD STRETCH THJS TO BE A SENTENCE\n",
    "# The function JTOI() should display the following content:\n",
    "# WELL, THIS IS A WORD BY ITSELF. YOU COULD STRETCH THIS TO BE A SENTENCE"
   ]
  },
  {
   "cell_type": "code",
   "execution_count": 68,
   "metadata": {},
   "outputs": [
    {
     "name": "stdout",
     "output_type": "stream",
     "text": [
      "WELL, THIS IS A WORD BY ITSELF. YOU COULD STRETCH THIS TO BE A SENTENCE\n"
     ]
    }
   ],
   "source": [
    "def jtoi():\n",
    "    with open('WORD.txt','rt') as fh:\n",
    "        contents = fh.read()\n",
    "        new_content = contents.replace('J','I')\n",
    "        print(new_content)\n",
    "\n",
    "jtoi()"
   ]
  },
  {
   "cell_type": "code",
   "execution_count": 36,
   "metadata": {
    "id": "I9YAGJWFTDi7"
   },
   "outputs": [
    {
     "name": "stdout",
     "output_type": "stream",
     "text": [
      "A or a: 28\n",
      "M or m: 6\n"
     ]
    }
   ],
   "source": [
    "# Write a function AMCount() in Python, which should read each character of a text file STORY.TXT,\n",
    "# should count and display the occurance of alphabets A and M (including small cases a and m too).\n",
    "# For Example:\n",
    "# If the file content is as follows:\n",
    "# Updated information\n",
    "# As simplified by official websites.\n",
    "# The EUCount() function should display the output as:\n",
    "# A or a:4\n",
    "# M or m :2\n",
    "\n",
    "def AMCount():\n",
    "    acount = 0\n",
    "    mcount = 0\n",
    "    with open('story.txt','rt') as fh:\n",
    "        contents = fh.read().lower()\n",
    "        for words in contents:\n",
    "            for char in words.split():\n",
    "                if char == 'a':\n",
    "                    acount+=1\n",
    "                elif char == 'm':\n",
    "                    mcount+=1\n",
    "    EUCount(acount,mcount)\n",
    "    \n",
    "    \n",
    "def EUCount(acount,mcount):\n",
    "    print('A or a:',acount)\n",
    "    print('M or m:',mcount)\n",
    "    \n",
    "AMCount()"
   ]
  },
  {
   "cell_type": "code",
   "execution_count": 9,
   "metadata": {
    "id": "oF327zzYTDi7"
   },
   "outputs": [
    {
     "name": "stdout",
     "output_type": "stream",
     "text": [
      "Enter the book Number:100\n",
      "enter the Bookname:python is fun\n",
      "enter the author name:sam\n",
      "enter the price:99\n"
     ]
    }
   ],
   "source": [
    "# A binary file \"Book.dat\" has structure [BookNo, Book_Name, Author, Price].\n",
    "# i. Write a user defined function createFile() to input data for a record and add to Book.dat.\n",
    "# ii. Write a function countRec(Author) in Python which accepts the Author name as parameter\n",
    "# and count and return number of books by the given Author are stored in the binary file \"Book.dat\"\n",
    "import pickle\n",
    "\n",
    "#lib = {'BookNo', 'Book_Name', 'Author','Price'}\n",
    "def add_details():   \n",
    "    book_lib = {}\n",
    "    book_number = int(input(\"Enter the book Number:\"))\n",
    "    book_name = input('enter the Bookname:')\n",
    "    author = input('enter the author name:')\n",
    "    price = int(input('enter the price:'))\n",
    "    \n",
    "    book_lib['Book_number'] = book_number\n",
    "    book_lib['Book_Name'] = book_name\n",
    "    book_lib['Author'] = author\n",
    "    book_lib['Price'] = price\n",
    "    addtofile(book_lib)\n",
    "    \n",
    "def addtofile(book_lib):\n",
    "    with open('Book.dat','ab') as fh:\n",
    "        data = pickle.dump(book_lib,fh)\n",
    "def countRec(Author):\n",
    "    with open('Book.dat','rb') as fh:\n",
    "        data = fh.read()\n",
    "        print(data)\n",
    "\n",
    "add_details()"
   ]
  },
  {
   "cell_type": "code",
   "execution_count": null,
   "metadata": {},
   "outputs": [],
   "source": []
  },
  {
   "cell_type": "code",
   "execution_count": null,
   "metadata": {
    "id": "Y9EzDpMSTDi7"
   },
   "outputs": [],
   "source": [
    "# A binary file \"STUDENT.DAT\" has structure (admission_number, Name, Percentage).\n",
    "# Write a function count_rec() in Python that would read contents of the file \"STUDENT.DAT\"\n",
    "# and display the details of those students whose percentage is above 75.\n",
    "# Also display number of students scoring above 75%"
   ]
  },
  {
   "cell_type": "code",
   "execution_count": null,
   "metadata": {
    "id": "t6W7mMngTDi7"
   },
   "outputs": [],
   "source": [
    "# Given a binary file employee.dat, created using dictionary object having keys: (empcode, name, and salary)\n",
    "\n",
    "# Write a python function that add one more record at the end of file.\n",
    "# Write a python function that display all employee records whose salary is more that 30000\n"
   ]
  },
  {
   "cell_type": "code",
   "execution_count": null,
   "metadata": {
    "id": "GqePxxUxTDi8"
   },
   "outputs": [],
   "source": [
    "# Write a function to search and display details of student whose rollno is '1005'\n",
    "# from the binary file student.dat having structure [rollno, name, class and fees]."
   ]
  },
  {
   "cell_type": "code",
   "execution_count": null,
   "metadata": {
    "id": "aTHrXt2lTDi8"
   },
   "outputs": [],
   "source": [
    "# A binary file school.dat has structure(rollno, name, class, fees)\n",
    "\n",
    "# Write a definition for function total_fees( ) that reads each object of file and calculate\n",
    "# the total fees of students and display the same."
   ]
  },
  {
   "cell_type": "code",
   "execution_count": null,
   "metadata": {
    "id": "_hnNXWzgTDi8"
   },
   "outputs": [],
   "source": [
    "# A binary file players.dat, containing records of following list format: [code, name, country and total runs]\n",
    "\n",
    "# 1. Write a python function that display all records where player name starts from 'A'\n",
    "# 2. Write a python function that accept country as an argument and count and display\n",
    "#     the number of players of that country.\n",
    "# 3. Write a python function that add one record at the end of file."
   ]
  },
  {
   "cell_type": "code",
   "execution_count": null,
   "metadata": {
    "ExecuteTime": {
     "end_time": "2021-05-29T10:46:59.140338Z",
     "start_time": "2021-05-29T10:46:59.135100Z"
    },
    "id": "5JOQldBETDi8"
   },
   "outputs": [],
   "source": [
    "# Given a binary file game.dat, containing records of following list format: [game_name, participants]\n",
    "\n",
    "# Write a function in Python that would read contents from the file game.dat and\n",
    "# creates a file named basket.dat copying only those records from game.dat where the game name is \"Basket Ball\""
   ]
  }
 ],
 "metadata": {
  "colab": {
   "provenance": []
  },
  "kernelspec": {
   "display_name": "Python 3 (ipykernel)",
   "language": "python",
   "name": "python3"
  },
  "language_info": {
   "codemirror_mode": {
    "name": "ipython",
    "version": 3
   },
   "file_extension": ".py",
   "mimetype": "text/x-python",
   "name": "python",
   "nbconvert_exporter": "python",
   "pygments_lexer": "ipython3",
   "version": "3.11.3"
  }
 },
 "nbformat": 4,
 "nbformat_minor": 1
}
